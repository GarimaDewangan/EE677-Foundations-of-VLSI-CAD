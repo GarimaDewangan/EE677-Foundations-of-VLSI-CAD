{
  "nbformat": 4,
  "nbformat_minor": 0,
  "metadata": {
    "colab": {
      "name": "EE677_Assignment2.ipynb",
      "provenance": [],
      "collapsed_sections": []
    },
    "kernelspec": {
      "name": "python3",
      "display_name": "Python 3"
    },
    "language_info": {
      "name": "python"
    }
  },
  "cells": [
    {
      "cell_type": "markdown",
      "metadata": {
        "id": "JHwu32Y6WxxO"
      },
      "source": [
        "**Group Members** : \n",
        "\n",
        "--- \n",
        "1) Name : Garima Dewangan  \n",
        "Roll no. : 19D070023  \n",
        "\n",
        "---  \n",
        "2) Name : Kimaya Shikarkhane  \n",
        "Roll no. : 19D070053 \n",
        "\n",
        "---\n",
        "3) Name : Mitali Singal  \n",
        "Roll no. : 19D070036\n",
        "\n",
        "---"
      ]
    },
    {
      "cell_type": "markdown",
      "metadata": {
        "id": "UZuc5zcuVlRR"
      },
      "source": [
        "##Input"
      ]
    },
    {
      "cell_type": "markdown",
      "metadata": {
        "id": "tV-5lZ15Vowr"
      },
      "source": [
        "**Format** :  \n",
        "Netlist.txt\n",
        "'\\*' symbol is for comments. Comments are ignored.  \n",
        "empty lines are ignored  \n",
        "1st line is the inputs list with space between two inputs  \n",
        "2nd line is the list of outputs with space between two outputs  \n",
        "From the 3rd line the gates are described  \n",
        "**format of describing gate** :   \n",
        "*output gate inputs*  \n",
        "variable names are cases sensitive  \n"
      ]
    },
    {
      "cell_type": "code",
      "metadata": {
        "colab": {
          "base_uri": "https://localhost:8080/"
        },
        "id": "BSGwfnOZVnvu",
        "outputId": "f0ddbbba-4650-4b0a-a69c-8df2241e773e"
      },
      "source": [
        "#Opening netlist file\n",
        "st = input(\"Netlist file : \")\n",
        "f1 = open(st, \"r\")"
      ],
      "execution_count": null,
      "outputs": [
        {
          "name": "stdout",
          "output_type": "stream",
          "text": [
            "Netlist file : netlist1.txt\n"
          ]
        }
      ]
    },
    {
      "cell_type": "markdown",
      "metadata": {
        "id": "B8j7PKt8VVkQ"
      },
      "source": [
        "##Code"
      ]
    },
    {
      "cell_type": "code",
      "metadata": {
        "id": "FY3d9LEDHGnk"
      },
      "source": [
        "import sys\n",
        "\n",
        "#Gate definitions\n",
        "def AND(a):\n",
        "  #print(a)\n",
        "  if '0' in a:\n",
        "    return('0')\n",
        "  elif 'x' in a:\n",
        "    #print('x')\n",
        "    return('x')\n",
        "  else:\n",
        "    return('1')\n",
        "\n",
        "def OR(a):\n",
        "\tif '1' in a:\n",
        "\t\treturn('1')\n",
        "\telif 'x' in a:\n",
        "\t\treturn('x')\n",
        "\telse:\n",
        "\t\treturn('0')\n",
        "\n",
        "def NOT(a):\n",
        "\tif(a[0]=='1'):\n",
        "\t\treturn('0')\n",
        "\telif(a[0]=='0'):\n",
        "\t\treturn('1')\n",
        "\telse:\n",
        "\t\treturn('x')\n",
        "\n",
        "def XOR(a):\n",
        "\tif 'x' in a:\n",
        "\t\treturn('x')\n",
        "\telif(a.count('1')%2==0 or a.count('0')%2==0):\n",
        "\t\treturn('0')\n",
        "\telse:\n",
        "\t\treturn('1')\n",
        "\n",
        "def NOR(a):\n",
        "\treturn(NOT(OR(a)))\n",
        "\n",
        "def NAND(a):\n",
        "\treturn(NOT(AND(a)))"
      ],
      "execution_count": null,
      "outputs": []
    },
    {
      "cell_type": "code",
      "metadata": {
        "id": "wV8iZLL1HWu3"
      },
      "source": [
        "#Node of the graph\n",
        "class node:\n",
        "\tdef __init__(self,type,inp):\n",
        "\t\tself.type = type\n",
        "\t\tself.inp = inp"
      ],
      "execution_count": null,
      "outputs": []
    },
    {
      "cell_type": "code",
      "metadata": {
        "id": "a26yXWFQP-ps"
      },
      "source": [
        "#Function to perform calculations\n",
        "def calc(type,inps):\n",
        "  #print(type,inps)\n",
        "  if type == 'and':\n",
        "    return(AND(inps))\n",
        "  elif type == 'or':\n",
        "    return(OR(inps))\n",
        "  elif type == 'not':\n",
        "    return(NOT(inps))\n",
        "  elif type == 'xor':\n",
        "    return(XOR(inps))\n",
        "  elif type == 'nor':\n",
        "    return(NOR(inps))\n",
        "  elif type == 'nand':\n",
        "    return(NAND(inps))\n",
        "  else:\n",
        "    return('x')"
      ],
      "execution_count": null,
      "outputs": []
    },
    {
      "cell_type": "code",
      "metadata": {
        "id": "mrytsgrmHXnh"
      },
      "source": [
        "#Evaluates output\n",
        "def evaluate(x):\n",
        "  #print(x.type,x.inp)\n",
        "  inps = []\n",
        "  for i in x.inp:\n",
        "    #print(x.type,i)\n",
        "    if i not in inputs:\n",
        "      if(variable[i]=='x'):\n",
        "        variable[i] = evaluate(graph[i])\n",
        "      #print(i,variable[i])\n",
        "    inps.append(variable[i]) \n",
        "  val = calc(x.type,inps)\n",
        "  #print(x.type,inps,val)\n",
        "  return (val)"
      ],
      "execution_count": null,
      "outputs": []
    },
    {
      "cell_type": "code",
      "metadata": {
        "id": "FKUf7_PLOFsx"
      },
      "source": [
        "#Fault sensitization/ Initializes the variable with a given value - by initializing th inputs\n",
        "def initialize(a,v):\n",
        "  x = graph[a]\n",
        "  if (x.type == 'not' or x.type == 'nor' or x.type == 'nand' ):\n",
        "    if v == '1':\n",
        "      r = '0'\n",
        "    else: \n",
        "      r = '1'\n",
        "  else:\n",
        "    r = v\n",
        "  #print('start to init',a,r,x.type,x.inp)\n",
        "  for i in x.inp:\n",
        "    #print(i)\n",
        "    if variable[i] == 'x':\n",
        "      if i in inputs:\n",
        "        variable[i] = r\n",
        "      else:\n",
        "        initialize(i,r)\n",
        "    inps = []\n",
        "    for iv in x.inp:\n",
        "      inps.append(variable[iv])\n",
        "    val = calc(x.type,inps)\n",
        "    #print('calc-mid',a,x.type,'inputs',x.inp,variable[x.inp[0]],variable[x.inp[1]],'value',val,'return')\n",
        "    if val == r:\n",
        "      break\n",
        "    else:\n",
        "      continue\n",
        "  variable[a] = val\n",
        "  #print('Intialized to',variable[a],'using',x.inp,variable[x.inp[0]],variable[x.inp[1]],'return')\n",
        "  return "
      ],
      "execution_count": null,
      "outputs": []
    },
    {
      "cell_type": "code",
      "metadata": {
        "id": "YTyHgBvLteWm"
      },
      "source": [
        "#Assigns non-controlling value according to gate\n",
        "def assign(type):\n",
        "  if type == 'and' or type == 'nand' :\n",
        "    return ('1')\n",
        "  else:\n",
        "    return ('0')"
      ],
      "execution_count": null,
      "outputs": []
    },
    {
      "cell_type": "code",
      "metadata": {
        "id": "Y4SO1mBAuYob"
      },
      "source": [
        "#Finds a path from the faulty node to the output\n",
        "def path(node1, node2):\n",
        "  path = []\n",
        "  visited = {}\n",
        "  for i in variable.keys():\n",
        "    visited[i] = 0\n",
        "  n = node2\n",
        "  path.append(n)\n",
        "  visited[n] = 1\n",
        "  while 0 in visited.values():\n",
        "    for i in graph[n].inp:\n",
        "      if (visited[i]==1):\n",
        "        continue\n",
        "      else:\n",
        "        visited[i]=1\n",
        "        path.append(i)\n",
        "        if (i==node1):\n",
        "          return (path)\n",
        "        else:\n",
        "          if i in inputs:\n",
        "            path.pop()\n",
        "          else:\n",
        "            n = i\n",
        "    if len(path)>0:\n",
        "      n = path.pop()\n",
        "    else:\n",
        "      break\n",
        "  return path"
      ],
      "execution_count": null,
      "outputs": []
    },
    {
      "cell_type": "code",
      "metadata": {
        "id": "Kc_n46QpQn8i"
      },
      "source": [
        "#Generates test vector for a given fault at a given node\n",
        "def generate(f,node):\n",
        "  #print('initialize')\n",
        "  #If fault is SA)\n",
        "  if f=='SA0':\n",
        "    #Initialize that node to 1\n",
        "    if node in inputs:\n",
        "      variable[node] = '1'\n",
        "    else:\n",
        "      initialize(node,'1')\n",
        "  #If fault is SA!\n",
        "  else:\n",
        "    #Initialize the node to 0\n",
        "    if node in inputs:\n",
        "      variable[node] = '0'\n",
        "    else:\n",
        "      initialize(node,'0')\n",
        "  initial = {}\n",
        "  for i in variable.keys():\n",
        "    initial[i] = variable[i]\n",
        "  #print(initial)\n",
        "  #Propogating the fault to output by assigning non controoling values to gates along the path \n",
        "  for o in outputs:\n",
        "    for i in initial.keys():\n",
        "      variable[i] = initial[i]\n",
        "    xo = graph[o]\n",
        "    #print('evaluate')\n",
        "    variable[o] = evaluate(graph[o])\n",
        "    #print('output',o,variable[o])\n",
        "    if variable[o] == 'x':\n",
        "      #->\n",
        "      path0 = path(node,o)\n",
        "      #print('path',path0)\n",
        "      if(len(path0)==0):\n",
        "        continue\n",
        "      else :\n",
        "        n = len(path0)-2\n",
        "        while (n>=0):\n",
        "          x = path0[n]\n",
        "          while (variable[x]=='x'):\n",
        "            for i in graph[x].inp:\n",
        "              #print(i)\n",
        "              if variable[i]=='x':\n",
        "                if i in inputs:\n",
        "                  variable[i] = assign(graph[x].type)\n",
        "                else:\n",
        "                  #print('init',i,assign(graph[x].type))\n",
        "                  initialize(i,assign(graph[x].type))\n",
        "              variable[x] = evaluate(graph[x])\n",
        "              if variable[x]!='x':\n",
        "                break\n",
        "            #print('While-loop',x,variable[x],graph[x].inp)\n",
        "          #print(path0[0])\n",
        "          evaluate(graph[path0[0]])\n",
        "          n = n-1\n",
        "      if variable[o] != 'x':\n",
        "        break\n",
        "  ans = []\n",
        "  for i in inputs:\n",
        "    ans.append(variable[i])\n",
        "  return ans"
      ],
      "execution_count": null,
      "outputs": []
    },
    {
      "cell_type": "code",
      "metadata": {
        "id": "FkUswsacUoZ9"
      },
      "source": [
        "#Generates vectors for all stuck at faults for all nodes\n",
        "def ATPG(variable,graph,inputs,outputs):\n",
        "  test_vec = []\n",
        "  #print(variable.keys())\n",
        "  var = []\n",
        "  for k in variable.keys():\n",
        "    var.append(k)\n",
        "  for v in var:\n",
        "    print(v)\n",
        "    for i in variable.keys():\n",
        "      variable[i] = 'x'\n",
        "    #print(variable)\n",
        "    vec = generate('SA0',v)\n",
        "    print('SA0',vec)\n",
        "    #print(variable)\n",
        "    if vec not in test_vec:\n",
        "      test_vec.append(vec)\n",
        "    for i in variable.keys():\n",
        "      variable[i] = 'x'\n",
        "    vec = generate('SA1',v)\n",
        "    print('SA1',vec)\n",
        "    #print(variable)\n",
        "    if vec in test_vec:\n",
        "      test_vec.append(vec)\n",
        "  return(test_vec)"
      ],
      "execution_count": null,
      "outputs": []
    },
    {
      "cell_type": "code",
      "metadata": {
        "id": "9xvWTyUrHl8O"
      },
      "source": [
        "#Declaring dictionaries to store variable values and nodes of graph\n",
        "variable = {}\n",
        "graph = {}\n",
        "\n",
        "t =0\n",
        "for x in f1:\n",
        "\tx = x.strip()\n",
        "\tif len(x)==0 or x[0]=='*' :\n",
        "\t\tcontinue\n",
        "\telif t==0:\n",
        "\t\tinputs = x.split()\n",
        "\t\tfor i in range(len(inputs)):\n",
        "\t\t\tvariable[inputs[i]] = 'x'\n",
        "\t\t#print(variable)\n",
        "\t\tt=t+1\n",
        "\telif t==1:\n",
        "\t\toutputs = x.split()\n",
        "\t\tt = t+1\n",
        "\telse:\n",
        "\t\tcode = x.split()\n",
        "\t\tvariable[code[0]] = 'x'\n",
        "\t\t#print(code[0],code[1],code[2:])\n",
        "\t\tx = node(str(code[1].lower()),code[2:])\n",
        "\t\tgraph[code[0]] = x\n",
        "\t\t#print(x.type)\n"
      ],
      "execution_count": null,
      "outputs": []
    },
    {
      "cell_type": "markdown",
      "metadata": {
        "id": "K2CmsbYkWlZf"
      },
      "source": [
        "##Output"
      ]
    },
    {
      "cell_type": "code",
      "metadata": {
        "colab": {
          "base_uri": "https://localhost:8080/"
        },
        "id": "ZovmFnWLWJoF",
        "outputId": "93488c04-a2be-44bd-d6f8-18f2fe674278"
      },
      "source": [
        "test_vec = ATPG(variable,graph,inputs,outputs)"
      ],
      "execution_count": null,
      "outputs": [
        {
          "output_type": "stream",
          "name": "stdout",
          "text": [
            "a\n",
            "SA0 ['1', '0', '0']\n",
            "SA1 ['0', '0', '0']\n",
            "b\n",
            "SA0 ['0', '1', '0']\n",
            "SA1 ['0', '0', '0']\n",
            "cin\n",
            "SA0 ['0', '0', '1']\n",
            "SA1 ['0', '0', '0']\n",
            "1\n",
            "SA0 ['1', '1', '0']\n",
            "SA1 ['0', '0', '0']\n",
            "s\n",
            "SA0 ['1', '1', '1']\n",
            "SA1 ['0', '0', '0']\n",
            "2\n",
            "SA0 ['1', '1', '1']\n",
            "SA1 ['0', 'x', '0']\n",
            "3\n",
            "SA0 ['1', '1', 'x']\n",
            "SA1 ['0', '1', '1']\n",
            "cout\n",
            "SA0 ['1', '1', '1']\n",
            "SA1 ['0', 'x', '0']\n"
          ]
        }
      ]
    },
    {
      "cell_type": "code",
      "metadata": {
        "id": "Xw_-pyTmJEo5",
        "colab": {
          "base_uri": "https://localhost:8080/"
        },
        "outputId": "fbae2bc3-4a72-4205-8a6c-f3b8f702c63e"
      },
      "source": [
        "print(test_vec)"
      ],
      "execution_count": null,
      "outputs": [
        {
          "output_type": "stream",
          "name": "stdout",
          "text": [
            "[['1', '0', '0'], ['0', '1', '0'], ['0', '0', '1'], ['1', '1', '0'], ['1', '1', '1'], ['1', '1', 'x']]\n"
          ]
        }
      ]
    }
  ]
}